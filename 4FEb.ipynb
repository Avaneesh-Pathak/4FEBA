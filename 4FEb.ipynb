{
 "cells": [
  {
   "cell_type": "code",
   "execution_count": null,
   "id": "db5b8cd4-959e-4d22-8741-8214fd49b1c4",
   "metadata": {},
   "outputs": [],
   "source": [
    "\"\"\"Create a python program to sort the given list of tuples based on integer value using a \n",
    "lambda function. \"\"\""
   ]
  },
  {
   "cell_type": "code",
   "execution_count": 2,
   "id": "96344031-226f-4b98-8267-faf0da3beaac",
   "metadata": {},
   "outputs": [
    {
     "name": "stdout",
     "output_type": "stream",
     "text": [
      "[('Virat Kohli', 24936), ('Jack Kallis', 25534), ('Ricky Ponting', 27483), ('Sachin Tendulkar', 34357)]\n"
     ]
    }
   ],
   "source": [
    "l =[ ('Sachin Tendulkar', 34357), ('Ricky Ponting', 27483), ('Jack Kallis', 25534), \n",
    "('Virat Kohli', 24936)]\n",
    "\n",
    "list = sorted(l,key= lambda x:x[1])\n",
    "print(list)\n"
   ]
  },
  {
   "cell_type": "code",
   "execution_count": null,
   "id": "4f7280b8-076d-4c90-89df-ed70634ca15b",
   "metadata": {},
   "outputs": [],
   "source": [
    "\"\"\"Write a Python Program to find the squares of all the numbers in the given list of integers using \n",
    "lambda and map functions.\n",
    "\n",
    "\n",
    "[1, 2, 3, 4, 5, 6, 7, 8, 9, 10\"\"\""
   ]
  },
  {
   "cell_type": "code",
   "execution_count": 6,
   "id": "d5575329-2abd-456b-935b-c740c869eb19",
   "metadata": {},
   "outputs": [
    {
     "name": "stdout",
     "output_type": "stream",
     "text": [
      "[1, 4, 9, 16, 25, 36, 49, 64, 81, 100]\n"
     ]
    }
   ],
   "source": [
    "l = [1,2,3,4,5,6,7,8,9,10]\n",
    "square = list(map(lambda x:x*x,l))\n",
    "print(square)\n"
   ]
  },
  {
   "cell_type": "code",
   "execution_count": null,
   "id": "0c915bfe-d228-4b58-83f6-d9bda2bd1c78",
   "metadata": {},
   "outputs": [],
   "source": [
    "\"\"\"Write a python program to convert the given list of integers into a tuple of strings. Use map and \n",
    "lambda functions\n",
    "\n",
    "\n",
    "Given String: [1, 2, 3, 4, 5, 6, 7, 8, 9, 10]\"\"\""
   ]
  },
  {
   "cell_type": "code",
   "execution_count": 9,
   "id": "60fd6fdc-658e-40ea-8913-7fc67d15b611",
   "metadata": {},
   "outputs": [
    {
     "name": "stdout",
     "output_type": "stream",
     "text": [
      "('1', '2', '3', '4', '5', '6', '7', '8', '9', '10')\n"
     ]
    }
   ],
   "source": [
    "l = [1,2,3,4,5,6,7,8,9,10]\n",
    "num = tuple(map(lambda x:str(x),l))\n",
    "print(num)"
   ]
  },
  {
   "cell_type": "code",
   "execution_count": null,
   "id": "a1c3c41f-1931-4310-b843-f1ba4e818e4f",
   "metadata": {},
   "outputs": [],
   "source": [
    "\"\"\"Write a python program using reduce function to compute the product of a list containing numbers from 1 to 25. "
   ]
  },
  {
   "cell_type": "code",
   "execution_count": 12,
   "id": "18c39dc4-f93c-4cef-93e6-3be6c9495988",
   "metadata": {},
   "outputs": [
    {
     "name": "stdout",
     "output_type": "stream",
     "text": [
      "15511210043330985984000000\n"
     ]
    }
   ],
   "source": [
    "from functools import reduce\n",
    "l = [i for i in range(1,26)]\n",
    "product = reduce(lambda x,y : x*y,l)\n",
    "print(product)"
   ]
  },
  {
   "cell_type": "code",
   "execution_count": null,
   "id": "ddc36bef-2aeb-42ab-942c-373e374362d4",
   "metadata": {},
   "outputs": [],
   "source": [
    "\"\"\" Write a pyhton program to filter the numbers in  a given list that are divisible by 2 and 3 using the filter function.\n",
    "[2,3,6,9,27,60,90,120,55,46]"
   ]
  },
  {
   "cell_type": "code",
   "execution_count": 13,
   "id": "25aeb8f4-9a3e-4fcc-96c5-0be3746b5787",
   "metadata": {},
   "outputs": [
    {
     "name": "stdout",
     "output_type": "stream",
     "text": [
      "[6, 60, 90, 120]\n"
     ]
    }
   ],
   "source": [
    "l = [2,3,6,9,27,60,90,120,55,46]\n",
    "num = list(filter(lambda x:x%2==0 and x%3==0,l))\n",
    "print(num)"
   ]
  },
  {
   "cell_type": "code",
   "execution_count": null,
   "id": "2fed34ac-b14d-46f2-a76a-f15c5cbcde62",
   "metadata": {},
   "outputs": [],
   "source": [
    "\"\"\" Write a python program to find palindromes in the given list of strings using lambda and filter \n",
    "function.\n",
    "\n",
    "\n",
    "['python', 'php', 'aba', 'radar', 'level']"
   ]
  },
  {
   "cell_type": "code",
   "execution_count": 15,
   "id": "60af0d10-1c89-4f6d-aae6-211eddb12a6c",
   "metadata": {},
   "outputs": [
    {
     "name": "stdout",
     "output_type": "stream",
     "text": [
      "['php', 'aba', 'radar', 'level']\n"
     ]
    }
   ],
   "source": [
    "l = ['python', 'php', 'aba', 'radar', 'level']\n",
    "result = list(filter(lambda x : x==x[::-1],l))\n",
    "print(result)\n",
    "\n"
   ]
  },
  {
   "cell_type": "code",
   "execution_count": null,
   "id": "5364f4e7-241b-4406-8945-0a7ae51e6561",
   "metadata": {},
   "outputs": [],
   "source": []
  }
 ],
 "metadata": {
  "kernelspec": {
   "display_name": "Python 3 (ipykernel)",
   "language": "python",
   "name": "python3"
  },
  "language_info": {
   "codemirror_mode": {
    "name": "ipython",
    "version": 3
   },
   "file_extension": ".py",
   "mimetype": "text/x-python",
   "name": "python",
   "nbconvert_exporter": "python",
   "pygments_lexer": "ipython3",
   "version": "3.10.8"
  }
 },
 "nbformat": 4,
 "nbformat_minor": 5
}
